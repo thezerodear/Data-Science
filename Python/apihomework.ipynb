{
 "cells": [
  {
   "cell_type": "code",
   "execution_count": 6,
   "metadata": {},
   "outputs": [],
   "source": [
    "import requests\n",
    "import time\n",
    "import pandas as pd\n",
    "from requests.structures import CaseInsensitiveDict"
   ]
  },
  {
   "cell_type": "code",
   "execution_count": null,
   "metadata": {},
   "outputs": [],
   "source": [
    "url = 'https://api.freecurrencyapi.com/v1/historical'\n",
    "headers = CaseInsensitiveDict()\n",
    "headers['apikey'] = 'fca_live_llSsJ1s4Xv1JSVLVOGCTo51CPC60gvFI*******'\n",
    "params = {\n",
    "    'date': '2022-01-01'  \n",
    "}\n",
    "\n",
    "resp = requests.get(url, headers=headers, params=params)\n",
    "\n",
    "if resp.status_code == 200:\n",
    "    try:\n",
    "        all_data = resp.json()[\"data\"]\n",
    "        date_data = all_data.get('2022-01-01', {})  # Access the data for the specific date\n",
    "\n",
    "        # Extract the required currencies\n",
    "        exch_dict = {\n",
    "            'USD': date_data.get('USD'),\n",
    "            'THB': date_data.get('THB'),\n",
    "            'KRW': date_data.get('KRW')\n",
    "        }\n",
    "\n",
    "        # Create a data frame\n",
    "        df = pd.DataFrame([exch_dict])\n",
    "        print(df)\n",
    "    except KeyError:\n",
    "        print(\"Error in JSON response structure.\")\n",
    "    except Exception as e:\n",
    "        print(f\"An error occurred: {e}\")\n",
    "else:\n",
    "    print(f\"Failed to fetch data: Status code {resp.status_code}\")\n",
    "\n",
    "time.sleep(5)\n",
    "\n"
   ]
  }
 ],
 "metadata": {
  "kernelspec": {
   "display_name": "Python 3",
   "language": "python",
   "name": "python3"
  },
  "language_info": {
   "codemirror_mode": {
    "name": "ipython",
    "version": 3
   },
   "file_extension": ".py",
   "mimetype": "text/x-python",
   "name": "python",
   "nbconvert_exporter": "python",
   "pygments_lexer": "ipython3",
   "version": "3.10.4"
  }
 },
 "nbformat": 4,
 "nbformat_minor": 2
}
